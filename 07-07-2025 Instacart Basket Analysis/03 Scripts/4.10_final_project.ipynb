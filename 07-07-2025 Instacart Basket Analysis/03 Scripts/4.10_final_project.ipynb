{
 "cells": [
  {
   "cell_type": "code",
   "execution_count": 78,
   "id": "3ce669a1-b59b-4f73-89b5-965ca84e0387",
   "metadata": {},
   "outputs": [],
   "source": [
    "import pandas as pd\n",
    "import numpy as np\n",
    "import os\n",
    "import matplotlib.pyplot as plt\n",
    "import seaborn as sns\n",
    "import scipy"
   ]
  },
  {
   "cell_type": "code",
   "execution_count": 101,
   "id": "adfe10e5-bbf9-4c21-a181-9ed3c6b45068",
   "metadata": {},
   "outputs": [],
   "source": [
    "# Import databases\n",
    "path = r'C:\\Users\\amuly\\07-07-2025 Instacart Basket Analysis'"
   ]
  },
  {
   "cell_type": "code",
   "execution_count": 102,
   "id": "33f11a5f-0d48-4b12-b139-e88b200bcac4",
   "metadata": {},
   "outputs": [],
   "source": [
    "df = pd.read_pickle(os.path.join(path,'02 Data','Prepared Data','final_df.pkl'))\n"
   ]
  },
  {
   "cell_type": "code",
   "execution_count": 103,
   "id": "fd5ce74c-635a-4dd0-9201-764456e0df4f",
   "metadata": {},
   "outputs": [
    {
     "data": {
      "text/html": [
       "<div>\n",
       "<style scoped>\n",
       "    .dataframe tbody tr th:only-of-type {\n",
       "        vertical-align: middle;\n",
       "    }\n",
       "\n",
       "    .dataframe tbody tr th {\n",
       "        vertical-align: top;\n",
       "    }\n",
       "\n",
       "    .dataframe thead th {\n",
       "        text-align: right;\n",
       "    }\n",
       "</style>\n",
       "<table border=\"1\" class=\"dataframe\">\n",
       "  <thead>\n",
       "    <tr style=\"text-align: right;\">\n",
       "      <th></th>\n",
       "      <th>Unnamed: 0</th>\n",
       "      <th>order_id</th>\n",
       "      <th>User ID</th>\n",
       "      <th>order_number</th>\n",
       "      <th>orders_day_of_week</th>\n",
       "      <th>order_hour_of_day</th>\n",
       "      <th>days_since_prior_order</th>\n",
       "      <th>product_id</th>\n",
       "      <th>add_to_cart_order</th>\n",
       "      <th>reordered</th>\n",
       "      <th>...</th>\n",
       "      <th>order_frequency_flag</th>\n",
       "      <th>First Name</th>\n",
       "      <th>Last Name</th>\n",
       "      <th>Gender</th>\n",
       "      <th>State</th>\n",
       "      <th>Age</th>\n",
       "      <th>Date Joined</th>\n",
       "      <th>Number of Dependents</th>\n",
       "      <th>Family Status</th>\n",
       "      <th>Income</th>\n",
       "    </tr>\n",
       "  </thead>\n",
       "  <tbody>\n",
       "    <tr>\n",
       "      <th>0</th>\n",
       "      <td>0</td>\n",
       "      <td>2539329</td>\n",
       "      <td>1</td>\n",
       "      <td>1</td>\n",
       "      <td>2</td>\n",
       "      <td>8</td>\n",
       "      <td>NaN</td>\n",
       "      <td>196</td>\n",
       "      <td>1</td>\n",
       "      <td>0</td>\n",
       "      <td>...</td>\n",
       "      <td>NaN</td>\n",
       "      <td>Linda</td>\n",
       "      <td>Nguyen</td>\n",
       "      <td>Female</td>\n",
       "      <td>Alabama</td>\n",
       "      <td>31</td>\n",
       "      <td>2/17/2019</td>\n",
       "      <td>3</td>\n",
       "      <td>married</td>\n",
       "      <td>40423</td>\n",
       "    </tr>\n",
       "    <tr>\n",
       "      <th>1</th>\n",
       "      <td>0</td>\n",
       "      <td>2539329</td>\n",
       "      <td>1</td>\n",
       "      <td>1</td>\n",
       "      <td>2</td>\n",
       "      <td>8</td>\n",
       "      <td>NaN</td>\n",
       "      <td>14084</td>\n",
       "      <td>2</td>\n",
       "      <td>0</td>\n",
       "      <td>...</td>\n",
       "      <td>NaN</td>\n",
       "      <td>Linda</td>\n",
       "      <td>Nguyen</td>\n",
       "      <td>Female</td>\n",
       "      <td>Alabama</td>\n",
       "      <td>31</td>\n",
       "      <td>2/17/2019</td>\n",
       "      <td>3</td>\n",
       "      <td>married</td>\n",
       "      <td>40423</td>\n",
       "    </tr>\n",
       "    <tr>\n",
       "      <th>2</th>\n",
       "      <td>0</td>\n",
       "      <td>2539329</td>\n",
       "      <td>1</td>\n",
       "      <td>1</td>\n",
       "      <td>2</td>\n",
       "      <td>8</td>\n",
       "      <td>NaN</td>\n",
       "      <td>12427</td>\n",
       "      <td>3</td>\n",
       "      <td>0</td>\n",
       "      <td>...</td>\n",
       "      <td>NaN</td>\n",
       "      <td>Linda</td>\n",
       "      <td>Nguyen</td>\n",
       "      <td>Female</td>\n",
       "      <td>Alabama</td>\n",
       "      <td>31</td>\n",
       "      <td>2/17/2019</td>\n",
       "      <td>3</td>\n",
       "      <td>married</td>\n",
       "      <td>40423</td>\n",
       "    </tr>\n",
       "    <tr>\n",
       "      <th>3</th>\n",
       "      <td>0</td>\n",
       "      <td>2539329</td>\n",
       "      <td>1</td>\n",
       "      <td>1</td>\n",
       "      <td>2</td>\n",
       "      <td>8</td>\n",
       "      <td>NaN</td>\n",
       "      <td>26088</td>\n",
       "      <td>4</td>\n",
       "      <td>0</td>\n",
       "      <td>...</td>\n",
       "      <td>NaN</td>\n",
       "      <td>Linda</td>\n",
       "      <td>Nguyen</td>\n",
       "      <td>Female</td>\n",
       "      <td>Alabama</td>\n",
       "      <td>31</td>\n",
       "      <td>2/17/2019</td>\n",
       "      <td>3</td>\n",
       "      <td>married</td>\n",
       "      <td>40423</td>\n",
       "    </tr>\n",
       "    <tr>\n",
       "      <th>4</th>\n",
       "      <td>0</td>\n",
       "      <td>2539329</td>\n",
       "      <td>1</td>\n",
       "      <td>1</td>\n",
       "      <td>2</td>\n",
       "      <td>8</td>\n",
       "      <td>NaN</td>\n",
       "      <td>26405</td>\n",
       "      <td>5</td>\n",
       "      <td>0</td>\n",
       "      <td>...</td>\n",
       "      <td>NaN</td>\n",
       "      <td>Linda</td>\n",
       "      <td>Nguyen</td>\n",
       "      <td>Female</td>\n",
       "      <td>Alabama</td>\n",
       "      <td>31</td>\n",
       "      <td>2/17/2019</td>\n",
       "      <td>3</td>\n",
       "      <td>married</td>\n",
       "      <td>40423</td>\n",
       "    </tr>\n",
       "  </tbody>\n",
       "</table>\n",
       "<p>5 rows × 34 columns</p>\n",
       "</div>"
      ],
      "text/plain": [
       "   Unnamed: 0  order_id  User ID  order_number  orders_day_of_week  \\\n",
       "0           0   2539329        1             1                   2   \n",
       "1           0   2539329        1             1                   2   \n",
       "2           0   2539329        1             1                   2   \n",
       "3           0   2539329        1             1                   2   \n",
       "4           0   2539329        1             1                   2   \n",
       "\n",
       "   order_hour_of_day  days_since_prior_order  product_id  add_to_cart_order  \\\n",
       "0                  8                     NaN         196                  1   \n",
       "1                  8                     NaN       14084                  2   \n",
       "2                  8                     NaN       12427                  3   \n",
       "3                  8                     NaN       26088                  4   \n",
       "4                  8                     NaN       26405                  5   \n",
       "\n",
       "   reordered  ... order_frequency_flag  First Name  Last Name  Gender  \\\n",
       "0          0  ...                  NaN       Linda     Nguyen  Female   \n",
       "1          0  ...                  NaN       Linda     Nguyen  Female   \n",
       "2          0  ...                  NaN       Linda     Nguyen  Female   \n",
       "3          0  ...                  NaN       Linda     Nguyen  Female   \n",
       "4          0  ...                  NaN       Linda     Nguyen  Female   \n",
       "\n",
       "     State Age Date Joined Number of Dependents Family Status  Income  \n",
       "0  Alabama  31   2/17/2019                    3       married   40423  \n",
       "1  Alabama  31   2/17/2019                    3       married   40423  \n",
       "2  Alabama  31   2/17/2019                    3       married   40423  \n",
       "3  Alabama  31   2/17/2019                    3       married   40423  \n",
       "4  Alabama  31   2/17/2019                    3       married   40423  \n",
       "\n",
       "[5 rows x 34 columns]"
      ]
     },
     "execution_count": 103,
     "metadata": {},
     "output_type": "execute_result"
    }
   ],
   "source": [
    "df.head()"
   ]
  },
  {
   "cell_type": "markdown",
   "id": "cd50bdaa-1c10-43d3-bdea-446f13fe35d2",
   "metadata": {},
   "source": [
    "#### PII check\n",
    "#### This dataset contains some personal information such as (income,age,user_id,etc.) This dataset will only be accessed by authorized personel within the company and any presentations or reports will use aggregated insights without exposing individual personal details."
   ]
  },
  {
   "cell_type": "code",
   "execution_count": 104,
   "id": "6f73e672-93c1-42e9-bc1f-5b98423e082a",
   "metadata": {},
   "outputs": [],
   "source": [
    "#creating a region column based on state column\n",
    "northeast = [\"Connecticut\", \"Maine\", \"Massachusetts\", \"New Hampshire\", \n",
    "             \"Rhode Island\", \"Vermont\", \"New Jersey\", \"New York\", \"Pennsylvania\"]\n",
    "midwest = [\"Illinois\", \"Indiana\", \"Michigan\", \"Ohio\", \"Wisconsin\", \n",
    "           \"Iowa\", \"Kansas\", \"Minnesota\", \"Missouri\", \n",
    "           \"Nebraska\", \"North Dakota\", \"South Dakota\"]\n",
    "south = [\"Delaware\", \"Florida\", \"Georgia\", \"Maryland\", \"North Carolina\", \"South Carolina\", \n",
    "         \"Virginia\", \"District of Columbia\", \"West Virginia\", \"Alabama\", \"Kentucky\", \n",
    "         \"Mississippi\", \"Tennessee\", \"Arkansas\", \"Louisiana\", \"Oklahoma\", \"Texas\"]\n",
    "west = [\"Arizona\", \"Colorado\", \"Idaho\", \"Montana\", \"Nevada\", \"New Mexico\", \n",
    "        \"Utah\", \"Wyoming\", \"Alaska\", \"California\", \"Hawaii\", \"Oregon\", \"Washington\"]"
   ]
  },
  {
   "cell_type": "code",
   "execution_count": 105,
   "id": "f979af31-8cf6-4740-877d-e64ba3855ed4",
   "metadata": {},
   "outputs": [],
   "source": [
    "#Assign states to region \n",
    "def region(state):\n",
    "    if state in northeast:\n",
    "        return \"Northeast\"\n",
    "    elif state in midwest:\n",
    "        return \"Midwest\"\n",
    "    elif state in south:\n",
    "        return \"South\"\n",
    "    elif state in west:\n",
    "        return \"West\"\n",
    "    else:\n",
    "        return \"Unknown\""
   ]
  },
  {
   "cell_type": "code",
   "execution_count": 106,
   "id": "b9d7ad3e-d8ae-4505-ba4d-3104fab3b4b8",
   "metadata": {},
   "outputs": [],
   "source": [
    "#creating a region column\n",
    "df[\"Region\"] = df[\"State\"].apply(region)"
   ]
  },
  {
   "cell_type": "code",
   "execution_count": 107,
   "id": "0c82a5e0-a6ea-4c17-a948-b415a10e3c18",
   "metadata": {},
   "outputs": [
    {
     "data": {
      "text/plain": [
       "Region\n",
       "South        692068\n",
       "West         527825\n",
       "Midwest      489739\n",
       "Northeast    366464\n",
       "Name: count, dtype: int64"
      ]
     },
     "execution_count": 107,
     "metadata": {},
     "output_type": "execute_result"
    }
   ],
   "source": [
    "#checking region cloumn\n",
    "df[\"Region\"].value_counts()"
   ]
  },
  {
   "cell_type": "code",
   "execution_count": 108,
   "id": "b82765b4-889b-43eb-960c-d9abaf8b6ca5",
   "metadata": {},
   "outputs": [
    {
     "data": {
      "text/html": [
       "<div>\n",
       "<style scoped>\n",
       "    .dataframe tbody tr th:only-of-type {\n",
       "        vertical-align: middle;\n",
       "    }\n",
       "\n",
       "    .dataframe tbody tr th {\n",
       "        vertical-align: top;\n",
       "    }\n",
       "\n",
       "    .dataframe thead th {\n",
       "        text-align: right;\n",
       "    }\n",
       "</style>\n",
       "<table border=\"1\" class=\"dataframe\">\n",
       "  <thead>\n",
       "    <tr style=\"text-align: right;\">\n",
       "      <th></th>\n",
       "      <th>Unnamed: 0</th>\n",
       "      <th>order_id</th>\n",
       "      <th>User ID</th>\n",
       "      <th>order_number</th>\n",
       "      <th>orders_day_of_week</th>\n",
       "      <th>order_hour_of_day</th>\n",
       "      <th>days_since_prior_order</th>\n",
       "      <th>product_id</th>\n",
       "      <th>add_to_cart_order</th>\n",
       "      <th>reordered</th>\n",
       "      <th>...</th>\n",
       "      <th>First Name</th>\n",
       "      <th>Last Name</th>\n",
       "      <th>Gender</th>\n",
       "      <th>State</th>\n",
       "      <th>Age</th>\n",
       "      <th>Date Joined</th>\n",
       "      <th>Number of Dependents</th>\n",
       "      <th>Family Status</th>\n",
       "      <th>Income</th>\n",
       "      <th>Region</th>\n",
       "    </tr>\n",
       "  </thead>\n",
       "  <tbody>\n",
       "    <tr>\n",
       "      <th>0</th>\n",
       "      <td>0</td>\n",
       "      <td>2539329</td>\n",
       "      <td>1</td>\n",
       "      <td>1</td>\n",
       "      <td>2</td>\n",
       "      <td>8</td>\n",
       "      <td>NaN</td>\n",
       "      <td>196</td>\n",
       "      <td>1</td>\n",
       "      <td>0</td>\n",
       "      <td>...</td>\n",
       "      <td>Linda</td>\n",
       "      <td>Nguyen</td>\n",
       "      <td>Female</td>\n",
       "      <td>Alabama</td>\n",
       "      <td>31</td>\n",
       "      <td>2/17/2019</td>\n",
       "      <td>3</td>\n",
       "      <td>married</td>\n",
       "      <td>40423</td>\n",
       "      <td>South</td>\n",
       "    </tr>\n",
       "    <tr>\n",
       "      <th>1</th>\n",
       "      <td>0</td>\n",
       "      <td>2539329</td>\n",
       "      <td>1</td>\n",
       "      <td>1</td>\n",
       "      <td>2</td>\n",
       "      <td>8</td>\n",
       "      <td>NaN</td>\n",
       "      <td>14084</td>\n",
       "      <td>2</td>\n",
       "      <td>0</td>\n",
       "      <td>...</td>\n",
       "      <td>Linda</td>\n",
       "      <td>Nguyen</td>\n",
       "      <td>Female</td>\n",
       "      <td>Alabama</td>\n",
       "      <td>31</td>\n",
       "      <td>2/17/2019</td>\n",
       "      <td>3</td>\n",
       "      <td>married</td>\n",
       "      <td>40423</td>\n",
       "      <td>South</td>\n",
       "    </tr>\n",
       "    <tr>\n",
       "      <th>2</th>\n",
       "      <td>0</td>\n",
       "      <td>2539329</td>\n",
       "      <td>1</td>\n",
       "      <td>1</td>\n",
       "      <td>2</td>\n",
       "      <td>8</td>\n",
       "      <td>NaN</td>\n",
       "      <td>12427</td>\n",
       "      <td>3</td>\n",
       "      <td>0</td>\n",
       "      <td>...</td>\n",
       "      <td>Linda</td>\n",
       "      <td>Nguyen</td>\n",
       "      <td>Female</td>\n",
       "      <td>Alabama</td>\n",
       "      <td>31</td>\n",
       "      <td>2/17/2019</td>\n",
       "      <td>3</td>\n",
       "      <td>married</td>\n",
       "      <td>40423</td>\n",
       "      <td>South</td>\n",
       "    </tr>\n",
       "    <tr>\n",
       "      <th>3</th>\n",
       "      <td>0</td>\n",
       "      <td>2539329</td>\n",
       "      <td>1</td>\n",
       "      <td>1</td>\n",
       "      <td>2</td>\n",
       "      <td>8</td>\n",
       "      <td>NaN</td>\n",
       "      <td>26088</td>\n",
       "      <td>4</td>\n",
       "      <td>0</td>\n",
       "      <td>...</td>\n",
       "      <td>Linda</td>\n",
       "      <td>Nguyen</td>\n",
       "      <td>Female</td>\n",
       "      <td>Alabama</td>\n",
       "      <td>31</td>\n",
       "      <td>2/17/2019</td>\n",
       "      <td>3</td>\n",
       "      <td>married</td>\n",
       "      <td>40423</td>\n",
       "      <td>South</td>\n",
       "    </tr>\n",
       "    <tr>\n",
       "      <th>4</th>\n",
       "      <td>0</td>\n",
       "      <td>2539329</td>\n",
       "      <td>1</td>\n",
       "      <td>1</td>\n",
       "      <td>2</td>\n",
       "      <td>8</td>\n",
       "      <td>NaN</td>\n",
       "      <td>26405</td>\n",
       "      <td>5</td>\n",
       "      <td>0</td>\n",
       "      <td>...</td>\n",
       "      <td>Linda</td>\n",
       "      <td>Nguyen</td>\n",
       "      <td>Female</td>\n",
       "      <td>Alabama</td>\n",
       "      <td>31</td>\n",
       "      <td>2/17/2019</td>\n",
       "      <td>3</td>\n",
       "      <td>married</td>\n",
       "      <td>40423</td>\n",
       "      <td>South</td>\n",
       "    </tr>\n",
       "  </tbody>\n",
       "</table>\n",
       "<p>5 rows × 35 columns</p>\n",
       "</div>"
      ],
      "text/plain": [
       "   Unnamed: 0  order_id  User ID  order_number  orders_day_of_week  \\\n",
       "0           0   2539329        1             1                   2   \n",
       "1           0   2539329        1             1                   2   \n",
       "2           0   2539329        1             1                   2   \n",
       "3           0   2539329        1             1                   2   \n",
       "4           0   2539329        1             1                   2   \n",
       "\n",
       "   order_hour_of_day  days_since_prior_order  product_id  add_to_cart_order  \\\n",
       "0                  8                     NaN         196                  1   \n",
       "1                  8                     NaN       14084                  2   \n",
       "2                  8                     NaN       12427                  3   \n",
       "3                  8                     NaN       26088                  4   \n",
       "4                  8                     NaN       26405                  5   \n",
       "\n",
       "   reordered  ... First Name  Last Name  Gender    State Age Date Joined  \\\n",
       "0          0  ...      Linda     Nguyen  Female  Alabama  31   2/17/2019   \n",
       "1          0  ...      Linda     Nguyen  Female  Alabama  31   2/17/2019   \n",
       "2          0  ...      Linda     Nguyen  Female  Alabama  31   2/17/2019   \n",
       "3          0  ...      Linda     Nguyen  Female  Alabama  31   2/17/2019   \n",
       "4          0  ...      Linda     Nguyen  Female  Alabama  31   2/17/2019   \n",
       "\n",
       "  Number of Dependents Family Status Income  Region  \n",
       "0                    3       married  40423   South  \n",
       "1                    3       married  40423   South  \n",
       "2                    3       married  40423   South  \n",
       "3                    3       married  40423   South  \n",
       "4                    3       married  40423   South  \n",
       "\n",
       "[5 rows x 35 columns]"
      ]
     },
     "execution_count": 108,
     "metadata": {},
     "output_type": "execute_result"
    }
   ],
   "source": [
    "df.head()"
   ]
  },
  {
   "cell_type": "code",
   "execution_count": 109,
   "id": "f3afdb62-1caf-4be2-8a7a-42ff08f74da5",
   "metadata": {},
   "outputs": [
    {
     "data": {
      "text/plain": [
       "Index(['Unnamed: 0', 'order_id', 'User ID', 'order_number',\n",
       "       'orders_day_of_week', 'order_hour_of_day', 'days_since_prior_order',\n",
       "       'product_id', 'add_to_cart_order', 'reordered', 'product_name',\n",
       "       'aisle_id', 'department_id', 'prices', 'match', 'price_range_loc',\n",
       "       'busiest day', 'busiest days', 'busiest_period_of_day', 'max_order',\n",
       "       'loyalty_flag', 'avg_product_price', 'spending_flag',\n",
       "       'median_days_between_orders', 'order_frequency_flag', 'First Name',\n",
       "       'Last Name', 'Gender', 'State', 'Age', 'Date Joined',\n",
       "       'Number of Dependents', 'Family Status', 'Income', 'Region'],\n",
       "      dtype='object')"
      ]
     },
     "execution_count": 109,
     "metadata": {},
     "output_type": "execute_result"
    }
   ],
   "source": [
    "df.columns"
   ]
  },
  {
   "cell_type": "code",
   "execution_count": 110,
   "id": "fa6edbc7-0721-49ec-a7bc-e33fa7d523bc",
   "metadata": {},
   "outputs": [
    {
     "data": {
      "text/html": [
       "<div>\n",
       "<style scoped>\n",
       "    .dataframe tbody tr th:only-of-type {\n",
       "        vertical-align: middle;\n",
       "    }\n",
       "\n",
       "    .dataframe tbody tr th {\n",
       "        vertical-align: top;\n",
       "    }\n",
       "\n",
       "    .dataframe thead th {\n",
       "        text-align: right;\n",
       "    }\n",
       "</style>\n",
       "<table border=\"1\" class=\"dataframe\">\n",
       "  <thead>\n",
       "    <tr style=\"text-align: right;\">\n",
       "      <th>spending_flag</th>\n",
       "      <th>High spender</th>\n",
       "      <th>Low spender</th>\n",
       "    </tr>\n",
       "    <tr>\n",
       "      <th>Region</th>\n",
       "      <th></th>\n",
       "      <th></th>\n",
       "    </tr>\n",
       "  </thead>\n",
       "  <tbody>\n",
       "    <tr>\n",
       "      <th>Midwest</th>\n",
       "      <td>26059</td>\n",
       "      <td>463680</td>\n",
       "    </tr>\n",
       "    <tr>\n",
       "      <th>Northeast</th>\n",
       "      <td>18507</td>\n",
       "      <td>347957</td>\n",
       "    </tr>\n",
       "    <tr>\n",
       "      <th>South</th>\n",
       "      <td>37106</td>\n",
       "      <td>654962</td>\n",
       "    </tr>\n",
       "    <tr>\n",
       "      <th>West</th>\n",
       "      <td>27881</td>\n",
       "      <td>499944</td>\n",
       "    </tr>\n",
       "  </tbody>\n",
       "</table>\n",
       "</div>"
      ],
      "text/plain": [
       "spending_flag  High spender  Low spender\n",
       "Region                                  \n",
       "Midwest               26059       463680\n",
       "Northeast             18507       347957\n",
       "South                 37106       654962\n",
       "West                  27881       499944"
      ]
     },
     "execution_count": 110,
     "metadata": {},
     "output_type": "execute_result"
    }
   ],
   "source": [
    "#checking the spending habits differences between U.S States\n",
    "pd.crosstab(df[\"Region\"], df[\"spending_flag\"],dropna=False)"
   ]
  },
  {
   "cell_type": "code",
   "execution_count": 111,
   "id": "d06783cd-90fd-4db8-9bbc-7756066f5203",
   "metadata": {},
   "outputs": [
    {
     "data": {
      "image/png": "[encoded data removed]",
      "text/plain": [
       "<Figure size 800x500 with 1 Axes>"
      ]
     },
     "metadata": {},
     "output_type": "display_data"
    }
   ],
   "source": [
    "spending_by_region = pd.crosstab(df[\"Region\"], df[\"spending_flag\"], normalize=\"index\") * 100\n",
    "\n",
    "ax = spending_by_region.plot(kind=\"bar\", stacked=False, figsize=(8,5))\n",
    "plt.ylabel(\"Percentage of Customers\")\n",
    "plt.title(\"Spending Habits by U.S. Region\")\n",
    "plt.legend(title=\"Spending Flag\")\n",
    "\n",
    "for container in ax.containers:\n",
    "    ax.bar_label(container, fmt=\"%.1f%%\", label_type=\"edge\")\n",
    "\n",
    "plt.show()"
   ]
  },
  {
   "cell_type": "code",
   "execution_count": 112,
   "id": "3e7a7333-f48f-46d5-94b2-1b499bea997a",
   "metadata": {},
   "outputs": [],
   "source": [
    "#exporting the visualization\n",
    "fig=ax.get_figure()"
   ]
  },
  {
   "cell_type": "code",
   "execution_count": 113,
   "id": "1b1b0273-824c-48e2-9234-074137bf496c",
   "metadata": {},
   "outputs": [],
   "source": [
    "fig.figure.savefig(os.path.join(path,'04 Analysis','Visualizations','spending_by_region.png'))"
   ]
  },
  {
   "cell_type": "code",
   "execution_count": 114,
   "id": "1f2d30db-40d2-448c-a9a1-39554311ec45",
   "metadata": {},
   "outputs": [],
   "source": [
    "#excluding customers who has less order than 5\n",
    "customer_orders = df.groupby(\"User ID\")[\"order_number\"].max().reset_index()"
   ]
  },
  {
   "cell_type": "code",
   "execution_count": 115,
   "id": "ebbe767d-2a99-42a5-8cd9-187a67f28971",
   "metadata": {},
   "outputs": [],
   "source": [
    "customer_orders[\"exclusion_flag\"] = customer_orders[\"order_number\"] < 5"
   ]
  },
  {
   "cell_type": "code",
   "execution_count": 116,
   "id": "f89f3929-851f-47cd-b9e4-2a43a4b362de",
   "metadata": {},
   "outputs": [],
   "source": [
    "df_active = df.merge(customer_orders[[\"User ID\", \"exclusion_flag\"]], on=\"User ID\", how=\"left\")"
   ]
  },
  {
   "cell_type": "code",
   "execution_count": 117,
   "id": "e9e0caac-71bb-4227-a2d2-71bf791002fd",
   "metadata": {},
   "outputs": [],
   "source": [
    "df_active = df_active[df_active[\"exclusion_flag\"] == False].copy()"
   ]
  },
  {
   "cell_type": "code",
   "execution_count": 118,
   "id": "3cebac0a-61af-49b4-aa82-51914cda77e2",
   "metadata": {},
   "outputs": [],
   "source": [
    "#exporting new dataset \n",
    "df_active.to_pickle(os.path.join(path,'02 Data','Prepared Data','final_df.pkl.pkl'))"
   ]
  },
  {
   "cell_type": "code",
   "execution_count": 119,
   "id": "cba5d7ec-fac9-41d9-a883-936a4ec224ab",
   "metadata": {},
   "outputs": [
    {
     "data": {
      "text/html": [
       "<div>\n",
       "<style scoped>\n",
       "    .dataframe tbody tr th:only-of-type {\n",
       "        vertical-align: middle;\n",
       "    }\n",
       "\n",
       "    .dataframe tbody tr th {\n",
       "        vertical-align: top;\n",
       "    }\n",
       "\n",
       "    .dataframe thead th {\n",
       "        text-align: right;\n",
       "    }\n",
       "</style>\n",
       "<table border=\"1\" class=\"dataframe\">\n",
       "  <thead>\n",
       "    <tr style=\"text-align: right;\">\n",
       "      <th></th>\n",
       "      <th>Unnamed: 0</th>\n",
       "      <th>order_id</th>\n",
       "      <th>User ID</th>\n",
       "      <th>order_number</th>\n",
       "      <th>orders_day_of_week</th>\n",
       "      <th>order_hour_of_day</th>\n",
       "      <th>days_since_prior_order</th>\n",
       "      <th>product_id</th>\n",
       "      <th>add_to_cart_order</th>\n",
       "      <th>reordered</th>\n",
       "      <th>...</th>\n",
       "      <th>Last Name</th>\n",
       "      <th>Gender</th>\n",
       "      <th>State</th>\n",
       "      <th>Age</th>\n",
       "      <th>Date Joined</th>\n",
       "      <th>Number of Dependents</th>\n",
       "      <th>Family Status</th>\n",
       "      <th>Income</th>\n",
       "      <th>Region</th>\n",
       "      <th>exclusion_flag</th>\n",
       "    </tr>\n",
       "  </thead>\n",
       "  <tbody>\n",
       "  </tbody>\n",
       "</table>\n",
       "<p>0 rows × 36 columns</p>\n",
       "</div>"
      ],
      "text/plain": [
       "Empty DataFrame\n",
       "Columns: [Unnamed: 0, order_id, User ID, order_number, orders_day_of_week, order_hour_of_day, days_since_prior_order, product_id, add_to_cart_order, reordered, product_name, aisle_id, department_id, prices, match, price_range_loc, busiest day, busiest days, busiest_period_of_day, max_order, loyalty_flag, avg_product_price, spending_flag, median_days_between_orders, order_frequency_flag, First Name, Last Name, Gender, State, Age, Date Joined, Number of Dependents, Family Status, Income, Region, exclusion_flag]\n",
       "Index: []\n",
       "\n",
       "[0 rows x 36 columns]"
      ]
     },
     "execution_count": 119,
     "metadata": {},
     "output_type": "execute_result"
    }
   ],
   "source": [
    "df_active.head()"
   ]
  },
  {
   "cell_type": "code",
   "execution_count": 120,
   "id": "2ab9e6fa-d31a-4909-a1af-ec947315f0df",
   "metadata": {},
   "outputs": [
    {
     "data": {
      "text/plain": [
       "(0, 36)"
      ]
     },
     "execution_count": 120,
     "metadata": {},
     "output_type": "execute_result"
    }
   ],
   "source": [
    "df_active.shape"
   ]
  },
  {
   "cell_type": "code",
   "execution_count": 121,
   "id": "294cf7f6-61c2-4c2d-b4f6-afbe71977c38",
   "metadata": {},
   "outputs": [],
   "source": [
    "#defining profiles \n",
    "def customer_profile(row):\n",
    "    # Young Adult\n",
    "    if row['Age'] < 30 and row['Number of Dependents'] == 0:\n",
    "        return \"Young Adult\"\n",
    "\n",
    "    # Young Parent\n",
    "    if 25 <= row['Age'] <= 40 and row['Number of Dependents'] > 0 :\n",
    "        return \"Young Parent\"\n",
    "\n",
    "    # Wealthy Professional\n",
    "    if row['Income'] > 100000 and row['Number of Dependents'] <= 1:\n",
    "        return \"Wealthy Professional\"\n",
    "\n",
    "    # Budget-Conscious Family\n",
    "    if row['Income'] < 60000 and row['Number of Dependents'] >= 2:\n",
    "        return \"Budget-Conscious Family\"\n",
    "\n",
    "    # Retired / Old Adult\n",
    "    if row['Age'] > 60 :\n",
    "        return \"Retired/Old Adult\"\n",
    "\n",
    "    return \"Other\"\n",
    "\n",
    "df_active[\"customer_profile\"] = df_active.apply(customer_profile, axis=1)"
   ]
  },
  {
   "cell_type": "code",
   "execution_count": 122,
   "id": "efe6ecc6-a7be-4db3-971a-269579ef535d",
   "metadata": {},
   "outputs": [
    {
     "data": {
      "text/plain": [
       "Series([], Name: count, dtype: int64)"
      ]
     },
     "execution_count": 122,
     "metadata": {},
     "output_type": "execute_result"
    }
   ],
   "source": [
    "#checking customer_profile\n",
    "df_active['customer_profile'].value_counts(dropna=False)"
   ]
  },
  {
   "cell_type": "code",
   "execution_count": 123,
   "id": "4c321d27-1374-455d-800e-0ee3f9eaf7c2",
   "metadata": {},
   "outputs": [
    {
     "ename": "IndexError",
     "evalue": "index 0 is out of bounds for axis 0 with size 0",
     "output_type": "error",
     "traceback": [
      "\u001b[1;31m---------------------------------------------------------------------------\u001b[0m",
      "\u001b[1;31mIndexError\u001b[0m                                Traceback (most recent call last)",
      "Cell \u001b[1;32mIn[123], line 4\u001b[0m\n\u001b[0;32m      1\u001b[0m \u001b[38;5;66;03m# distribution of profiles\u001b[39;00m\n\u001b[0;32m      2\u001b[0m profile_bar \u001b[38;5;241m=\u001b[39m df_active[\u001b[38;5;124m\"\u001b[39m\u001b[38;5;124mcustomer_profile\u001b[39m\u001b[38;5;124m\"\u001b[39m]\u001b[38;5;241m.\u001b[39mvalue_counts(normalize\u001b[38;5;241m=\u001b[39m\u001b[38;5;28;01mTrue\u001b[39;00m) \u001b[38;5;241m*\u001b[39m \u001b[38;5;241m100\u001b[39m\n\u001b[1;32m----> 4\u001b[0m ax \u001b[38;5;241m=\u001b[39m profile_bar\u001b[38;5;241m.\u001b[39mplot(kind\u001b[38;5;241m=\u001b[39m\u001b[38;5;124m\"\u001b[39m\u001b[38;5;124mbar\u001b[39m\u001b[38;5;124m\"\u001b[39m, figsize\u001b[38;5;241m=\u001b[39m(\u001b[38;5;241m8\u001b[39m,\u001b[38;5;241m5\u001b[39m))\n\u001b[0;32m      5\u001b[0m plt\u001b[38;5;241m.\u001b[39mylabel(\u001b[38;5;124m\"\u001b[39m\u001b[38;5;124mPercentage of Customers\u001b[39m\u001b[38;5;124m\"\u001b[39m)\n\u001b[0;32m      6\u001b[0m plt\u001b[38;5;241m.\u001b[39mtitle(\u001b[38;5;124m\"\u001b[39m\u001b[38;5;124mDistribution of Customer Profiles\u001b[39m\u001b[38;5;124m\"\u001b[39m)\n",
      "File \u001b[1;32m~\\anaconda3\\Lib\\site-packages\\pandas\\plotting\\_core.py:1030\u001b[0m, in \u001b[0;36mPlotAccessor.__call__\u001b[1;34m(self, *args, **kwargs)\u001b[0m\n\u001b[0;32m   1027\u001b[0m             label_name \u001b[38;5;241m=\u001b[39m label_kw \u001b[38;5;129;01mor\u001b[39;00m data\u001b[38;5;241m.\u001b[39mcolumns\n\u001b[0;32m   1028\u001b[0m             data\u001b[38;5;241m.\u001b[39mcolumns \u001b[38;5;241m=\u001b[39m label_name\n\u001b[1;32m-> 1030\u001b[0m \u001b[38;5;28;01mreturn\u001b[39;00m plot_backend\u001b[38;5;241m.\u001b[39mplot(data, kind\u001b[38;5;241m=\u001b[39mkind, \u001b[38;5;241m*\u001b[39m\u001b[38;5;241m*\u001b[39mkwargs)\n",
      "File \u001b[1;32m~\\anaconda3\\Lib\\site-packages\\pandas\\plotting\\_matplotlib\\__init__.py:71\u001b[0m, in \u001b[0;36mplot\u001b[1;34m(data, kind, **kwargs)\u001b[0m\n\u001b[0;32m     69\u001b[0m         kwargs[\u001b[38;5;124m\"\u001b[39m\u001b[38;5;124max\u001b[39m\u001b[38;5;124m\"\u001b[39m] \u001b[38;5;241m=\u001b[39m \u001b[38;5;28mgetattr\u001b[39m(ax, \u001b[38;5;124m\"\u001b[39m\u001b[38;5;124mleft_ax\u001b[39m\u001b[38;5;124m\"\u001b[39m, ax)\n\u001b[0;32m     70\u001b[0m plot_obj \u001b[38;5;241m=\u001b[39m PLOT_CLASSES[kind](data, \u001b[38;5;241m*\u001b[39m\u001b[38;5;241m*\u001b[39mkwargs)\n\u001b[1;32m---> 71\u001b[0m plot_obj\u001b[38;5;241m.\u001b[39mgenerate()\n\u001b[0;32m     72\u001b[0m plot_obj\u001b[38;5;241m.\u001b[39mdraw()\n\u001b[0;32m     73\u001b[0m \u001b[38;5;28;01mreturn\u001b[39;00m plot_obj\u001b[38;5;241m.\u001b[39mresult\n",
      "File \u001b[1;32m~\\anaconda3\\Lib\\site-packages\\pandas\\plotting\\_matplotlib\\core.py:508\u001b[0m, in \u001b[0;36mMPLPlot.generate\u001b[1;34m(self)\u001b[0m\n\u001b[0;32m    506\u001b[0m \u001b[38;5;28;01mfor\u001b[39;00m ax \u001b[38;5;129;01min\u001b[39;00m \u001b[38;5;28mself\u001b[39m\u001b[38;5;241m.\u001b[39maxes:\n\u001b[0;32m    507\u001b[0m     \u001b[38;5;28mself\u001b[39m\u001b[38;5;241m.\u001b[39m_post_plot_logic_common(ax)\n\u001b[1;32m--> 508\u001b[0m     \u001b[38;5;28mself\u001b[39m\u001b[38;5;241m.\u001b[39m_post_plot_logic(ax, \u001b[38;5;28mself\u001b[39m\u001b[38;5;241m.\u001b[39mdata)\n",
      "File \u001b[1;32m~\\anaconda3\\Lib\\site-packages\\pandas\\plotting\\_matplotlib\\core.py:1972\u001b[0m, in \u001b[0;36mBarPlot._post_plot_logic\u001b[1;34m(self, ax, data)\u001b[0m\n\u001b[0;32m   1969\u001b[0m \u001b[38;5;28;01melse\u001b[39;00m:\n\u001b[0;32m   1970\u001b[0m     str_index \u001b[38;5;241m=\u001b[39m [pprint_thing(key) \u001b[38;5;28;01mfor\u001b[39;00m key \u001b[38;5;129;01min\u001b[39;00m \u001b[38;5;28mrange\u001b[39m(data\u001b[38;5;241m.\u001b[39mshape[\u001b[38;5;241m0\u001b[39m])]\n\u001b[1;32m-> 1972\u001b[0m s_edge \u001b[38;5;241m=\u001b[39m \u001b[38;5;28mself\u001b[39m\u001b[38;5;241m.\u001b[39max_pos[\u001b[38;5;241m0\u001b[39m] \u001b[38;5;241m-\u001b[39m \u001b[38;5;241m0.25\u001b[39m \u001b[38;5;241m+\u001b[39m \u001b[38;5;28mself\u001b[39m\u001b[38;5;241m.\u001b[39mlim_offset\n\u001b[0;32m   1973\u001b[0m e_edge \u001b[38;5;241m=\u001b[39m \u001b[38;5;28mself\u001b[39m\u001b[38;5;241m.\u001b[39max_pos[\u001b[38;5;241m-\u001b[39m\u001b[38;5;241m1\u001b[39m] \u001b[38;5;241m+\u001b[39m \u001b[38;5;241m0.25\u001b[39m \u001b[38;5;241m+\u001b[39m \u001b[38;5;28mself\u001b[39m\u001b[38;5;241m.\u001b[39mbar_width \u001b[38;5;241m+\u001b[39m \u001b[38;5;28mself\u001b[39m\u001b[38;5;241m.\u001b[39mlim_offset\n\u001b[0;32m   1975\u001b[0m \u001b[38;5;28mself\u001b[39m\u001b[38;5;241m.\u001b[39m_decorate_ticks(ax, \u001b[38;5;28mself\u001b[39m\u001b[38;5;241m.\u001b[39m_get_index_name(), str_index, s_edge, e_edge)\n",
      "\u001b[1;31mIndexError\u001b[0m: index 0 is out of bounds for axis 0 with size 0"
     ]
    },
    {
     "data": {
      "image/png": "[encoded data removed]",
      "text/plain": [
       "<Figure size 800x500 with 1 Axes>"
      ]
     },
     "metadata": {},
     "output_type": "display_data"
    }
   ],
   "source": [
    "# distribution of profiles\n",
    "profile_bar = df_active[\"customer_profile\"].value_counts(normalize=True) * 100\n",
    "\n",
    "ax = profile_bar.plot(kind=\"bar\", figsize=(8,5))\n",
    "plt.ylabel(\"Percentage of Customers\")\n",
    "plt.title(\"Distribution of Customer Profiles\")\n",
    "plt.xticks(rotation=45, ha=\"right\")\n",
    "\n",
    "for i, v in enumerate(profile_bar):\n",
    "    plt.text(i, v + 0.5, f\"{v:.1f}%\", ha=\"center\")\n",
    "\n",
    "plt.show()"
   ]
  },
  {
   "cell_type": "code",
   "execution_count": 124,
   "id": "5c46af4a-6d8d-4e16-831f-0df8ada74d95",
   "metadata": {},
   "outputs": [],
   "source": [
    "bar_customer_profile=ax.get_figure()"
   ]
  },
  {
   "cell_type": "code",
   "execution_count": 125,
   "id": "99d6f130-99be-418f-beda-c8bbb7289288",
   "metadata": {},
   "outputs": [],
   "source": [
    "bar_customer_profile.figure.savefig(os.path.join(path,'04 Analysis','Visualizations','distribution_of_customer_profiles.png'))"
   ]
  },
  {
   "cell_type": "code",
   "execution_count": 126,
   "id": "0e5f06c0-3b8b-4bdc-89f6-fbd021097226",
   "metadata": {
    "scrolled": true
   },
   "outputs": [
    {
     "ename": "TypeError",
     "evalue": "no numeric data to plot",
     "output_type": "error",
     "traceback": [
      "\u001b[1;31m---------------------------------------------------------------------------\u001b[0m",
      "\u001b[1;31mTypeError\u001b[0m                                 Traceback (most recent call last)",
      "Cell \u001b[1;32mIn[126], line 4\u001b[0m\n\u001b[0;32m      1\u001b[0m \u001b[38;5;66;03m#Customer profiles by region\u001b[39;00m\n\u001b[0;32m      2\u001b[0m state_profile_counts \u001b[38;5;241m=\u001b[39m pd\u001b[38;5;241m.\u001b[39mcrosstab(df_active[\u001b[38;5;124m\"\u001b[39m\u001b[38;5;124mRegion\u001b[39m\u001b[38;5;124m\"\u001b[39m], df_active[\u001b[38;5;124m\"\u001b[39m\u001b[38;5;124mcustomer_profile\u001b[39m\u001b[38;5;124m\"\u001b[39m])\n\u001b[1;32m----> 4\u001b[0m ax \u001b[38;5;241m=\u001b[39m state_profile_counts\u001b[38;5;241m.\u001b[39mplot(kind\u001b[38;5;241m=\u001b[39m\u001b[38;5;124m\"\u001b[39m\u001b[38;5;124mbar\u001b[39m\u001b[38;5;124m\"\u001b[39m, stacked\u001b[38;5;241m=\u001b[39m\u001b[38;5;28;01mFalse\u001b[39;00m, figsize\u001b[38;5;241m=\u001b[39m(\u001b[38;5;241m14\u001b[39m,\u001b[38;5;241m7\u001b[39m))\n\u001b[0;32m      6\u001b[0m plt\u001b[38;5;241m.\u001b[39mtitle(\u001b[38;5;124m\"\u001b[39m\u001b[38;5;124mCustomer Profiles by State\u001b[39m\u001b[38;5;124m\"\u001b[39m)\n\u001b[0;32m      7\u001b[0m plt\u001b[38;5;241m.\u001b[39mxlabel(\u001b[38;5;124m\"\u001b[39m\u001b[38;5;124mRegion\u001b[39m\u001b[38;5;124m\"\u001b[39m)\n",
      "File \u001b[1;32m~\\anaconda3\\Lib\\site-packages\\pandas\\plotting\\_core.py:1030\u001b[0m, in \u001b[0;36mPlotAccessor.__call__\u001b[1;34m(self, *args, **kwargs)\u001b[0m\n\u001b[0;32m   1027\u001b[0m             label_name \u001b[38;5;241m=\u001b[39m label_kw \u001b[38;5;129;01mor\u001b[39;00m data\u001b[38;5;241m.\u001b[39mcolumns\n\u001b[0;32m   1028\u001b[0m             data\u001b[38;5;241m.\u001b[39mcolumns \u001b[38;5;241m=\u001b[39m label_name\n\u001b[1;32m-> 1030\u001b[0m \u001b[38;5;28;01mreturn\u001b[39;00m plot_backend\u001b[38;5;241m.\u001b[39mplot(data, kind\u001b[38;5;241m=\u001b[39mkind, \u001b[38;5;241m*\u001b[39m\u001b[38;5;241m*\u001b[39mkwargs)\n",
      "File \u001b[1;32m~\\anaconda3\\Lib\\site-packages\\pandas\\plotting\\_matplotlib\\__init__.py:71\u001b[0m, in \u001b[0;36mplot\u001b[1;34m(data, kind, **kwargs)\u001b[0m\n\u001b[0;32m     69\u001b[0m         kwargs[\u001b[38;5;124m\"\u001b[39m\u001b[38;5;124max\u001b[39m\u001b[38;5;124m\"\u001b[39m] \u001b[38;5;241m=\u001b[39m \u001b[38;5;28mgetattr\u001b[39m(ax, \u001b[38;5;124m\"\u001b[39m\u001b[38;5;124mleft_ax\u001b[39m\u001b[38;5;124m\"\u001b[39m, ax)\n\u001b[0;32m     70\u001b[0m plot_obj \u001b[38;5;241m=\u001b[39m PLOT_CLASSES[kind](data, \u001b[38;5;241m*\u001b[39m\u001b[38;5;241m*\u001b[39mkwargs)\n\u001b[1;32m---> 71\u001b[0m plot_obj\u001b[38;5;241m.\u001b[39mgenerate()\n\u001b[0;32m     72\u001b[0m plot_obj\u001b[38;5;241m.\u001b[39mdraw()\n\u001b[0;32m     73\u001b[0m \u001b[38;5;28;01mreturn\u001b[39;00m plot_obj\u001b[38;5;241m.\u001b[39mresult\n",
      "File \u001b[1;32m~\\anaconda3\\Lib\\site-packages\\pandas\\plotting\\_matplotlib\\core.py:499\u001b[0m, in \u001b[0;36mMPLPlot.generate\u001b[1;34m(self)\u001b[0m\n\u001b[0;32m    497\u001b[0m \u001b[38;5;129m@final\u001b[39m\n\u001b[0;32m    498\u001b[0m \u001b[38;5;28;01mdef\u001b[39;00m\u001b[38;5;250m \u001b[39m\u001b[38;5;21mgenerate\u001b[39m(\u001b[38;5;28mself\u001b[39m) \u001b[38;5;241m-\u001b[39m\u001b[38;5;241m>\u001b[39m \u001b[38;5;28;01mNone\u001b[39;00m:\n\u001b[1;32m--> 499\u001b[0m     \u001b[38;5;28mself\u001b[39m\u001b[38;5;241m.\u001b[39m_compute_plot_data()\n\u001b[0;32m    500\u001b[0m     fig \u001b[38;5;241m=\u001b[39m \u001b[38;5;28mself\u001b[39m\u001b[38;5;241m.\u001b[39mfig\n\u001b[0;32m    501\u001b[0m     \u001b[38;5;28mself\u001b[39m\u001b[38;5;241m.\u001b[39m_make_plot(fig)\n",
      "File \u001b[1;32m~\\anaconda3\\Lib\\site-packages\\pandas\\plotting\\_matplotlib\\core.py:698\u001b[0m, in \u001b[0;36mMPLPlot._compute_plot_data\u001b[1;34m(self)\u001b[0m\n\u001b[0;32m    696\u001b[0m \u001b[38;5;66;03m# no non-numeric frames or series allowed\u001b[39;00m\n\u001b[0;32m    697\u001b[0m \u001b[38;5;28;01mif\u001b[39;00m is_empty:\n\u001b[1;32m--> 698\u001b[0m     \u001b[38;5;28;01mraise\u001b[39;00m \u001b[38;5;167;01mTypeError\u001b[39;00m(\u001b[38;5;124m\"\u001b[39m\u001b[38;5;124mno numeric data to plot\u001b[39m\u001b[38;5;124m\"\u001b[39m)\n\u001b[0;32m    700\u001b[0m \u001b[38;5;28mself\u001b[39m\u001b[38;5;241m.\u001b[39mdata \u001b[38;5;241m=\u001b[39m numeric_data\u001b[38;5;241m.\u001b[39mapply(\u001b[38;5;28mtype\u001b[39m(\u001b[38;5;28mself\u001b[39m)\u001b[38;5;241m.\u001b[39m_convert_to_ndarray)\n",
      "\u001b[1;31mTypeError\u001b[0m: no numeric data to plot"
     ]
    }
   ],
   "source": [
    "#Customer profiles by region\n",
    "state_profile_counts = pd.crosstab(df_active[\"Region\"], df_active[\"customer_profile\"])\n",
    "\n",
    "ax = state_profile_counts.plot(kind=\"bar\", stacked=False, figsize=(14,7))\n",
    "\n",
    "plt.title(\"Customer Profiles by State\")\n",
    "plt.xlabel(\"Region\")\n",
    "plt.ylabel(\"Number of Customers\")\n",
    "plt.xticks(rotation=90)  \n",
    "plt.legend(title=\"Customer Profile\", bbox_to_anchor=(1.05, 1), loc=\"upper left\")\n",
    "plt.tight_layout()\n",
    "plt.show()"
   ]
  },
  {
   "cell_type": "code",
   "execution_count": 127,
   "id": "efa95636-25ca-43d2-a3b0-ac47c87e9908",
   "metadata": {},
   "outputs": [],
   "source": [
    "bar_cust_region=ax.get_figure()"
   ]
  },
  {
   "cell_type": "code",
   "execution_count": 128,
   "id": "53b79eac-06f3-44f4-8a4f-f3b3704532a7",
   "metadata": {},
   "outputs": [],
   "source": [
    "bar_cust_region.figure.savefig(os.path.join(path,'04 Analysis','Visualizations','distribution_of_customer_profiles_region.png'))"
   ]
  },
  {
   "cell_type": "code",
   "execution_count": 129,
   "id": "71971df1-7fc5-4f9a-9e09-c0fd5bc925b9",
   "metadata": {},
   "outputs": [
    {
     "name": "stderr",
     "output_type": "stream",
     "text": [
      "C:\\Users\\amuly\\AppData\\Local\\Temp\\ipykernel_28676\\1015340858.py:11: UserWarning: Attempting to set identical low and high xlims makes transformation singular; automatically expanding.\n",
      "  im = ax.imshow(dow_profile_ct.values, aspect=\"auto\", cmap=\"YlGnBu\")\n",
      "C:\\Users\\amuly\\AppData\\Local\\Temp\\ipykernel_28676\\1015340858.py:11: UserWarning: Attempting to set identical low and high ylims makes transformation singular; automatically expanding.\n",
      "  im = ax.imshow(dow_profile_ct.values, aspect=\"auto\", cmap=\"YlGnBu\")\n"
     ]
    },
    {
     "ename": "ValueError",
     "evalue": "zero-size array to reduction operation maximum which has no identity",
     "output_type": "error",
     "traceback": [
      "\u001b[1;31m---------------------------------------------------------------------------\u001b[0m",
      "\u001b[1;31mValueError\u001b[0m                                Traceback (most recent call last)",
      "Cell \u001b[1;32mIn[129], line 24\u001b[0m\n\u001b[0;32m     21\u001b[0m ax\u001b[38;5;241m.\u001b[39mset_yticklabels(y_ticklabels)\n\u001b[0;32m     23\u001b[0m vals \u001b[38;5;241m=\u001b[39m dow_profile_ct\u001b[38;5;241m.\u001b[39mvalues\n\u001b[1;32m---> 24\u001b[0m threshold \u001b[38;5;241m=\u001b[39m vals\u001b[38;5;241m.\u001b[39mmax() \u001b[38;5;241m/\u001b[39m \u001b[38;5;241m2\u001b[39m\n\u001b[0;32m     26\u001b[0m \u001b[38;5;28;01mfor\u001b[39;00m i \u001b[38;5;129;01min\u001b[39;00m \u001b[38;5;28mrange\u001b[39m(vals\u001b[38;5;241m.\u001b[39mshape[\u001b[38;5;241m0\u001b[39m]):\n\u001b[0;32m     27\u001b[0m     \u001b[38;5;28;01mfor\u001b[39;00m j \u001b[38;5;129;01min\u001b[39;00m \u001b[38;5;28mrange\u001b[39m(vals\u001b[38;5;241m.\u001b[39mshape[\u001b[38;5;241m1\u001b[39m]):\n",
      "File \u001b[1;32m~\\anaconda3\\Lib\\site-packages\\numpy\\_core\\_methods.py:45\u001b[0m, in \u001b[0;36m_amax\u001b[1;34m(a, axis, out, keepdims, initial, where)\u001b[0m\n\u001b[0;32m     43\u001b[0m \u001b[38;5;28;01mdef\u001b[39;00m\u001b[38;5;250m \u001b[39m\u001b[38;5;21m_amax\u001b[39m(a, axis\u001b[38;5;241m=\u001b[39m\u001b[38;5;28;01mNone\u001b[39;00m, out\u001b[38;5;241m=\u001b[39m\u001b[38;5;28;01mNone\u001b[39;00m, keepdims\u001b[38;5;241m=\u001b[39m\u001b[38;5;28;01mFalse\u001b[39;00m,\n\u001b[0;32m     44\u001b[0m           initial\u001b[38;5;241m=\u001b[39m_NoValue, where\u001b[38;5;241m=\u001b[39m\u001b[38;5;28;01mTrue\u001b[39;00m):\n\u001b[1;32m---> 45\u001b[0m     \u001b[38;5;28;01mreturn\u001b[39;00m umr_maximum(a, axis, \u001b[38;5;28;01mNone\u001b[39;00m, out, keepdims, initial, where)\n",
      "\u001b[1;31mValueError\u001b[0m: zero-size array to reduction operation maximum which has no identity"
     ]
    },
    {
     "data": {
      "image/png": "[encoded data removed]",
      "text/plain": [
       "<Figure size 1200x600 with 1 Axes>"
      ]
     },
     "metadata": {},
     "output_type": "display_data"
    }
   ],
   "source": [
    "dow_profile_ct = pd.crosstab(df_active[\"orders_day_of_week\"], df_active[\"customer_profile\"])\n",
    "\n",
    "profile_order = dow_profile_ct.sum(axis=0).sort_values(ascending=False).index.tolist()\n",
    "dow_profile_ct = dow_profile_ct[profile_order]\n",
    "\n",
    "day_labels_map = {0:\"Sat\", 1:\"Sun\", 2:\"Mon\", 3:\"Tue\", 4:\"Wed\", 5:\"Thu\", 6:\"Fri\"}\n",
    "y_ticks = list(dow_profile_ct.index)\n",
    "y_ticklabels = [day_labels_map.get(int(v), str(v)) for v in y_ticks]\n",
    "\n",
    "fig, ax = plt.subplots(figsize=(12, 6))\n",
    "im = ax.imshow(dow_profile_ct.values, aspect=\"auto\", cmap=\"YlGnBu\")\n",
    "\n",
    "ax.set_title(\"Orders by Day of Week and Customer Profile (Counts)\", fontsize=14, pad=12)\n",
    "ax.set_xlabel(\"Customer Profile\", fontsize=12)\n",
    "ax.set_ylabel(\"Day of Week\", fontsize=12)\n",
    "\n",
    "ax.set_xticks(np.arange(dow_profile_ct.shape[1]))\n",
    "ax.set_xticklabels(dow_profile_ct.columns, rotation=45, ha=\"right\")\n",
    "\n",
    "ax.set_yticks(np.arange(dow_profile_ct.shape[0]))\n",
    "ax.set_yticklabels(y_ticklabels)\n",
    "\n",
    "vals = dow_profile_ct.values\n",
    "threshold = vals.max() / 2\n",
    "\n",
    "for i in range(vals.shape[0]):\n",
    "    for j in range(vals.shape[1]):\n",
    "        color = \"white\" if vals[i, j] > threshold else \"black\"\n",
    "        ax.text(j, i, f\"{int(vals[i, j])}\", ha=\"center\", va=\"center\", color=color, fontsize=9)\n",
    "\n",
    "cbar = fig.colorbar(im, ax=ax)\n",
    "cbar.set_label(\"Order Count\", rotation=90)\n",
    "\n",
    "plt.tight_layout()\n",
    "plt.show()"
   ]
  },
  {
   "cell_type": "code",
   "execution_count": 130,
   "id": "e39c1154-8728-41aa-bddd-d2628f744148",
   "metadata": {},
   "outputs": [],
   "source": [
    "heatmap=ax.get_figure()"
   ]
  },
  {
   "cell_type": "code",
   "execution_count": 131,
   "id": "08a9fccc-ab93-4b87-abcb-f2b77fbc2772",
   "metadata": {},
   "outputs": [],
   "source": [
    "heatmap.figure.savefig(os.path.join(path,'04 Analysis','Visualizations','orders_by_dow_profile.png'))"
   ]
  },
  {
   "cell_type": "code",
   "execution_count": 132,
   "id": "3afddabd-d5a0-4e13-b264-696a885f86b2",
   "metadata": {},
   "outputs": [
    {
     "data": {
      "image/png": "[encoded data removed]",
      "text/plain": [
       "<Figure size 1000x700 with 1 Axes>"
      ]
     },
     "metadata": {},
     "output_type": "display_data"
    }
   ],
   "source": [
    "\n",
    "dept_map = {\n",
    "    1: \"frozen\",\n",
    "    2: \"other\",\n",
    "    3: \"bakery\",\n",
    "    4: \"produce\",\n",
    "    5: \"alcohol\",\n",
    "    6: \"international\",\n",
    "    7: \"beverages\",\n",
    "    8: \"pets\",\n",
    "    9: \"dry goods pasta\",\n",
    "    10: \"bulk\",\n",
    "    11: \"personal care\",\n",
    "    12: \"meat seafood\",\n",
    "    13: \"pantry\",\n",
    "    14: \"breakfast\",\n",
    "    15: \"canned goods\",\n",
    "    16: \"dairy eggs\",\n",
    "    17: \"household\",\n",
    "    18: \"babies\",\n",
    "    19: \"snacks\",\n",
    "    20: \"deli\",\n",
    "    21: \"missing\"\n",
    "}\n",
    "df_active[\"department_name\"] = df_active[\"department_id\"].map(dept_map)\n",
    "\n",
    "dept_counts = df_active[\"department_name\"].value_counts().sort_values(ascending=True)\n",
    "\n",
    "ax=plt.figure(figsize=(10,7))\n",
    "bars = plt.barh(dept_counts.index, dept_counts.values, color=\"steelblue\")\n",
    "\n",
    "for bar in bars:\n",
    "    plt.text(bar.get_width() + 500, \n",
    "             bar.get_y() + bar.get_height()/2,\n",
    "             f\"{int(bar.get_width()):,}\", va=\"center\")\n",
    "\n",
    "plt.title(\"Most Popular Departments\", fontsize=14)\n",
    "plt.xlabel(\"Number of Orders\")\n",
    "plt.ylabel(\"Department\")\n",
    "plt.tight_layout()\n",
    "plt.show()"
   ]
  },
  {
   "cell_type": "code",
   "execution_count": 133,
   "id": "ede6ef4c-b386-4f50-87fb-ff5550fb918d",
   "metadata": {},
   "outputs": [],
   "source": [
    "department_popularity=ax.get_figure()"
   ]
  },
  {
   "cell_type": "code",
   "execution_count": 134,
   "id": "efe9631c-f835-4628-8f4f-82e086d46fcb",
   "metadata": {},
   "outputs": [],
   "source": [
    "department_popularity.figure.savefig(os.path.join(path,'04 Analysis','Visualizations','department_popularity.png'))"
   ]
  },
  {
   "cell_type": "code",
   "execution_count": 135,
   "id": "1add95dd-53ab-405f-bb50-c3b019bbd65e",
   "metadata": {},
   "outputs": [
    {
     "ename": "ZeroDivisionError",
     "evalue": "float division by zero",
     "output_type": "error",
     "traceback": [
      "\u001b[1;31m---------------------------------------------------------------------------\u001b[0m",
      "\u001b[1;31mZeroDivisionError\u001b[0m                         Traceback (most recent call last)",
      "Cell \u001b[1;32mIn[135], line 22\u001b[0m\n\u001b[0;32m     19\u001b[0m n_profiles \u001b[38;5;241m=\u001b[39m \u001b[38;5;28mlen\u001b[39m(profiles)\n\u001b[0;32m     20\u001b[0m n_depts    \u001b[38;5;241m=\u001b[39m \u001b[38;5;28mlen\u001b[39m(depts)\n\u001b[1;32m---> 22\u001b[0m bar_h \u001b[38;5;241m=\u001b[39m \u001b[38;5;241m0.8\u001b[39m \u001b[38;5;241m/\u001b[39m n_depts\n\u001b[0;32m     23\u001b[0m y_base \u001b[38;5;241m=\u001b[39m np\u001b[38;5;241m.\u001b[39marange(n_profiles)\n\u001b[0;32m     25\u001b[0m ax\u001b[38;5;241m=\u001b[39mplt\u001b[38;5;241m.\u001b[39mfigure(figsize\u001b[38;5;241m=\u001b[39m(\u001b[38;5;241m12\u001b[39m, \u001b[38;5;241m7\u001b[39m))\n",
      "\u001b[1;31mZeroDivisionError\u001b[0m: float division by zero"
     ]
    }
   ],
   "source": [
    "# 1) department_id → department_name eşleşmesi\n",
    "df_active[\"department_name\"] = df_active[\"department_id\"].map(dept_map)\n",
    "\n",
    "# 2) Profil x Departman COUNT matrisi\n",
    "mat = (df_active\n",
    "       .groupby([\"customer_profile\", \"department_name\"])\n",
    "       .size()\n",
    "       .unstack(fill_value=0))\n",
    "\n",
    "# 3) En popüler TOP-K departmanı seç\n",
    "TOP_K = 10\n",
    "top_depts = mat.sum(axis=0).sort_values(ascending=False).head(TOP_K).index\n",
    "mat = mat[top_depts]\n",
    "\n",
    "# 4) Yatay, yan yana bar chart\n",
    "profiles = mat.index.tolist()\n",
    "depts    = mat.columns.tolist()\n",
    "\n",
    "n_profiles = len(profiles)\n",
    "n_depts    = len(depts)\n",
    "\n",
    "bar_h = 0.8 / n_depts\n",
    "y_base = np.arange(n_profiles)\n",
    "\n",
    "ax=plt.figure(figsize=(12, 7))\n",
    "\n",
    "for i, dept in enumerate(depts):\n",
    "    y_pos = y_base - 0.4 + i*bar_h\n",
    "    plt.barh(y_pos, mat[dept].values, height=bar_h, label=dept)\n",
    "\n",
    "plt.yticks(y_base, profiles)\n",
    "plt.xlabel(\"Count of Orders\")\n",
    "plt.ylabel(\"Customer Profile\")\n",
    "plt.title(\"Top Departments Purchased by Customer Profiles\")\n",
    "\n",
    "plt.legend(title=\"Department\", bbox_to_anchor=(1.02, 1), loc=\"upper left\")\n",
    "plt.tight_layout()\n",
    "plt.show()"
   ]
  },
  {
   "cell_type": "code",
   "execution_count": 136,
   "id": "b7eb53c8-f7f8-49ca-8e86-6f8b8c2c68c4",
   "metadata": {},
   "outputs": [],
   "source": [
    "top_dep_dist_cust_prof=ax.get_figure()"
   ]
  },
  {
   "cell_type": "code",
   "execution_count": 137,
   "id": "1f885406-f152-4369-ae48-afe4b9cfecbb",
   "metadata": {},
   "outputs": [],
   "source": [
    "top_dep_dist_cust_prof.figure.savefig(os.path.join(path,'04 Analysis','Visualizations','top_dep_dist_cust_prof.png'))"
   ]
  },
  {
   "cell_type": "code",
   "execution_count": null,
   "id": "e0a615cd-c38c-4543-9fa9-e317417dfd51",
   "metadata": {},
   "outputs": [],
   "source": []
  }
 ],
 "metadata": {
  "kernelspec": {
   "display_name": "Python [conda env:base] *",
   "language": "python",
   "name": "conda-base-py"
  },
  "language_info": {
   "codemirror_mode": {
    "name": "ipython",
    "version": 3
   },
   "file_extension": ".py",
   "mimetype": "text/x-python",
   "name": "python",
   "nbconvert_exporter": "python",
   "pygments_lexer": "ipython3",
   "version": "3.13.5"
  }
 },
 "nbformat": 4,
 "nbformat_minor": 5
}
